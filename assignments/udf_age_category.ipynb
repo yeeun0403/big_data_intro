{
 "cells": [
  {
   "cell_type": "code",
   "execution_count": 1,
   "id": "50fcc4dc-7198-4744-a87f-0036b28e27c3",
   "metadata": {
    "tags": []
   },
   "outputs": [],
   "source": [
    "from pyspark.sql import SparkSession"
   ]
  },
  {
   "cell_type": "code",
   "execution_count": 2,
   "id": "ab229a90-374d-4569-8aa4-22764c892d71",
   "metadata": {
    "tags": []
   },
   "outputs": [],
   "source": [
    "spark = SparkSession.builder.master('local').appName('udf_age').getOrCreate()"
   ]
  },
  {
   "cell_type": "code",
   "execution_count": 3,
   "id": "426428c1-3a5b-403a-915b-dff5199fb2e3",
   "metadata": {
    "tags": []
   },
   "outputs": [],
   "source": [
    "age = [\n",
    "    ('이예은', 22),\n",
    "    ('안현', 39),\n",
    "    ('사쿠라', 26),\n",
    "    ('김양순', 82),\n",
    "    ('신승옥', 49),\n",
    "    ('한석규', 60),\n",
    "    ('김민정', 23),\n",
    "    ('김소연', 44),\n",
    "    ('안성기', 72),\n",
    "    ('최동오', 19)\n",
    "]"
   ]
  },
  {
   "cell_type": "code",
   "execution_count": 4,
   "id": "5d7e7444-415d-4f07-b474-c24dd9e77950",
   "metadata": {
    "tags": []
   },
   "outputs": [],
   "source": [
    "schema = ['name', 'age']"
   ]
  },
  {
   "cell_type": "code",
   "execution_count": 5,
   "id": "c0bc1489-15d8-48f0-9b1c-7302f596f5fb",
   "metadata": {
    "tags": []
   },
   "outputs": [],
   "source": [
    "df = spark.createDataFrame(data=age, schema=schema)"
   ]
  },
  {
   "cell_type": "code",
   "execution_count": 6,
   "id": "6499c0e5-3162-4f2b-8041-065a86c0cc53",
   "metadata": {
    "tags": []
   },
   "outputs": [
    {
     "name": "stdout",
     "output_type": "stream",
     "text": [
      "+------+---+\n",
      "|  name|age|\n",
      "+------+---+\n",
      "|이예은| 22|\n",
      "|  안현| 39|\n",
      "|사쿠라| 26|\n",
      "|김양순| 82|\n",
      "|신승옥| 49|\n",
      "|한석규| 60|\n",
      "|김민정| 23|\n",
      "|김소연| 44|\n",
      "|안성기| 72|\n",
      "|최동오| 19|\n",
      "+------+---+\n",
      "\n"
     ]
    }
   ],
   "source": [
    "df.show()"
   ]
  },
  {
   "cell_type": "code",
   "execution_count": 7,
   "id": "a6c3ab68-7ecd-4e93-aeac-14e43e8d359e",
   "metadata": {
    "tags": []
   },
   "outputs": [
    {
     "name": "stdout",
     "output_type": "stream",
     "text": [
      "root\n",
      " |-- name: string (nullable = true)\n",
      " |-- age: long (nullable = true)\n",
      "\n"
     ]
    }
   ],
   "source": [
    "df.printSchema()"
   ]
  },
  {
   "cell_type": "code",
   "execution_count": 8,
   "id": "3e9c6eb7-3bc3-477a-8f24-9645822cb448",
   "metadata": {
    "tags": []
   },
   "outputs": [],
   "source": [
    "df.createOrReplaceTempView('categories')"
   ]
  },
  {
   "cell_type": "code",
   "execution_count": 9,
   "id": "58e681dc-ffdd-45f8-95b7-6528341d2771",
   "metadata": {
    "tags": []
   },
   "outputs": [],
   "source": [
    "def age_category(age):\n",
    "   \n",
    "    if (age < 35):\n",
    "        return \"young\"\n",
    "    elif (age >= 35 and age <= 59):\n",
    "        return \"adult\"\n",
    "    else:\n",
    "        return \"senior\""
   ]
  },
  {
   "cell_type": "code",
   "execution_count": 10,
   "id": "87d33cae-4cce-4ca1-9238-3e3530a73c86",
   "metadata": {
    "tags": []
   },
   "outputs": [
    {
     "data": {
      "text/plain": [
       "<function __main__.age_category(age)>"
      ]
     },
     "execution_count": 10,
     "metadata": {},
     "output_type": "execute_result"
    }
   ],
   "source": [
    "spark.udf.register('age_category', age_category)"
   ]
  },
  {
   "cell_type": "code",
   "execution_count": 11,
   "id": "059980b6-dc38-41c6-a400-c147eb62729c",
   "metadata": {
    "tags": []
   },
   "outputs": [
    {
     "name": "stdout",
     "output_type": "stream",
     "text": [
      "+------+---+-----------------+\n",
      "|  name|age|age_category(age)|\n",
      "+------+---+-----------------+\n",
      "|이예은| 22|            young|\n",
      "|  안현| 39|            adult|\n",
      "|사쿠라| 26|            young|\n",
      "|김양순| 82|           senior|\n",
      "|신승옥| 49|            adult|\n",
      "|한석규| 60|           senior|\n",
      "|김민정| 23|            young|\n",
      "|김소연| 44|            adult|\n",
      "|안성기| 72|           senior|\n",
      "|최동오| 19|            young|\n",
      "+------+---+-----------------+\n",
      "\n"
     ]
    }
   ],
   "source": [
    "spark.sql('SELECT name, age, age_category(age) FROM categories').show()"
   ]
  },
  {
   "cell_type": "code",
   "execution_count": null,
   "id": "e532ca38-e682-4d7d-afb5-a62d44a968db",
   "metadata": {},
   "outputs": [],
   "source": []
  }
 ],
 "metadata": {
  "kernelspec": {
   "display_name": "Python 3 (ipykernel)",
   "language": "python",
   "name": "python3"
  },
  "language_info": {
   "codemirror_mode": {
    "name": "ipython",
    "version": 3
   },
   "file_extension": ".py",
   "mimetype": "text/x-python",
   "name": "python",
   "nbconvert_exporter": "python",
   "pygments_lexer": "ipython3",
   "version": "3.9.4"
  }
 },
 "nbformat": 4,
 "nbformat_minor": 5
}
